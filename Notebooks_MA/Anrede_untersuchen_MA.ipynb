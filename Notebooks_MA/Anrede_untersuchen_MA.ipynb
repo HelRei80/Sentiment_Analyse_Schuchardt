{
 "cells": [
  {
   "cell_type": "markdown",
   "metadata": {},
   "source": [
    "# Anredeformeln untersuchen und zählen"
   ]
  },
  {
   "cell_type": "markdown",
   "metadata": {},
   "source": [
    "- notwendige Bibliotheken:"
   ]
  },
  {
   "cell_type": "code",
   "execution_count": null,
   "metadata": {},
   "outputs": [],
   "source": [
    "import bs4         \n",
    "import lxml        \n",
    "from bs4 import BeautifulSoup as bs\n",
    "import os"
   ]
  },
  {
   "cell_type": "markdown",
   "metadata": {},
   "source": [
    "- die XML-Dateien werden eingelesen und geparst\n",
    "- danach wird nach der Anredformel im opener-Element gesucht, es werden alle Satzzeichen entfernt und die Grussformeln werden in eine TXT-Datei gespeichert"
   ]
  },
  {
   "cell_type": "code",
   "execution_count": 5,
   "metadata": {},
   "outputs": [],
   "source": [
    "pfad = r\"pfad\\zu\\dateien\"\n",
    "os.chdir(pfad)\n",
    "\n",
    "for datei in os.listdir(pfad): \n",
    "    f = os.path.join(pfad, datei) \n",
    "    if os.path.isfile(f): \n",
    "\n",
    "        with open (f, encoding = \"utf-8\") as fh:\n",
    "            content = fh.read ()\n",
    "            content= ''.join(content)\n",
    "            bs_content = bs(content, 'lxml')\n",
    "            for gruss in bs_content.find_all('opener'):\n",
    "                gruss_formel = gruss.text\n",
    "                gruss_formel_ohne = gruss_formel.replace('!', '').replace(',', '').replace('.', '').replace(';', '').replace(':', '').replace('*)', '').replace('-', '').strip()\n",
    "                with open ('gruessformeln_ohne_zeichen.txt', \"a\", encoding = \"utf-8\") as fh_out: \n",
    "                    fh_out.write(f'{gruss_formel_ohne}\\n')"
   ]
  },
  {
   "cell_type": "markdown",
   "metadata": {},
   "source": [
    "- die Anredeformeln werden in eine Liste umgewandelt"
   ]
  },
  {
   "cell_type": "code",
   "execution_count": null,
   "metadata": {},
   "outputs": [],
   "source": [
    "gruesse=[]\n",
    "with open(r\"C:\\Users\\helen\\Desktop\\test\\gruessformeln_ohne_zeichen.txt\", encoding='utf-8') as fh:\n",
    "    gruss_formel = [line.rstrip() for line in fh.readlines()]\n",
    "    for gruss in gruss_formel:\n",
    "        gruesse.append(gruss)\n",
    "print(gruesse)"
   ]
  },
  {
   "cell_type": "markdown",
   "metadata": {},
   "source": [
    "- es wird ein Zähler eingesetzt, der dieselben Anredeformeln zählt, und das Ergebnis als Dictionary ausgibt"
   ]
  },
  {
   "cell_type": "code",
   "execution_count": null,
   "metadata": {},
   "outputs": [],
   "source": [
    "gruss_counter = {}\n",
    "for gruss1 in gruesse:\n",
    "    gruss_counter[gruss1] = gruss_counter.get(gruss1, 0) + 1\n",
    "print(gruss_counter)"
   ]
  },
  {
   "cell_type": "markdown",
   "metadata": {},
   "source": [
    "- der Dictionary wird sortiert und nach der Anzahl der Anredeformeln absteigend ausgegeben"
   ]
  },
  {
   "cell_type": "code",
   "execution_count": null,
   "metadata": {},
   "outputs": [],
   "source": [
    "s_gruss_counter = sorted(gruss_counter.items(), key=lambda name_counter: name_counter[1], reverse=True)\n",
    "for key, value in s_gruss_counter:\n",
    "    print(\"{}: {}\".format(value, key))"
   ]
  }
 ],
 "metadata": {
  "kernelspec": {
   "display_name": "Python 3",
   "language": "python",
   "name": "python3"
  },
  "language_info": {
   "codemirror_mode": {
    "name": "ipython",
    "version": 3
   },
   "file_extension": ".py",
   "mimetype": "text/x-python",
   "name": "python",
   "nbconvert_exporter": "python",
   "pygments_lexer": "ipython3",
   "version": "3.8.3"
  }
 },
 "nbformat": 4,
 "nbformat_minor": 4
}
