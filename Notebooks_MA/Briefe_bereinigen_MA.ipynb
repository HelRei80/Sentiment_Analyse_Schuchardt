{
 "cells": [
  {
   "cell_type": "markdown",
   "metadata": {},
   "source": [
    "# Briefe bereinigen"
   ]
  },
  {
   "cell_type": "markdown",
   "metadata": {},
   "source": [
    "- notwendige Bibliotheken:"
   ]
  },
  {
   "cell_type": "code",
   "execution_count": null,
   "metadata": {},
   "outputs": [],
   "source": [
    "import lxml        \n",
    "from bs4 import BeautifulSoup as bs\n",
    "import os\n",
    "from pathlib import Path\n",
    "import shutil"
   ]
  },
  {
   "cell_type": "markdown",
   "metadata": {},
   "source": [
    "- der Pfad zum Ordner, in dem sich die zu bereinigenden Dateien befinden, wird definiert:"
   ]
  },
  {
   "cell_type": "code",
   "execution_count": null,
   "metadata": {},
   "outputs": [],
   "source": [
    "pfad = r\"C:\\Users\\helen\\Desktop\\test\\\\\"\n",
    "pfad2 = r\"C:\\Users\\helen\\Desktop\\alt\\\\\"\n",
    "os.chdir(pfad)"
   ]
  },
  {
   "cell_type": "markdown",
   "metadata": {},
   "source": [
    "- Funktion, die einzelne Dateien aufmacht und den XML-Inhalt parst: "
   ]
  },
  {
   "cell_type": "code",
   "execution_count": null,
   "metadata": {},
   "outputs": [],
   "source": [
    "def parse_file(f):\n",
    "    with open(f, encoding=\"utf-8\") as file:\n",
    "        content = file.read()\n",
    "        content = ''.join(content)\n",
    "        bs_content = bs(content, 'lxml')\n",
    "        return bs_content"
   ]
  },
  {
   "cell_type": "markdown",
   "metadata": {},
   "source": [
    "- Funktion, die in einem anderen Ordner eine neue TXT-Datei öffnet und den Inhalt des Briefes darin speichert:"
   ]
  },
  {
   "cell_type": "code",
   "execution_count": null,
   "metadata": {},
   "outputs": [],
   "source": [
    "def make_file(brief):\n",
    "    ausgabe_datei = os.path.join(pfad2, f'{name}.txt')\n",
    "    with open(ausgabe_datei, 'w', encoding='utf-8') as fh_out:\n",
    "        datei = fh_out.write(brief)\n",
    "    return datei"
   ]
  },
  {
   "cell_type": "markdown",
   "metadata": {},
   "source": [
    "## Dateien umbenennen"
   ]
  },
  {
   "cell_type": "markdown",
   "metadata": {},
   "source": [
    "- die Dateien werden eingelesen, der Inhalt geparst und die Dateien werden umbenannt\n",
    "- der neue Name besteht aus dem Namen des Empfängers und einer generierten Nummer\n",
    "- die alten XML-Dateien werden in einen anderen Ordner verschoben"
   ]
  },
  {
   "cell_type": "code",
   "execution_count": null,
   "metadata": {},
   "outputs": [],
   "source": [
    "alte_dateien = r\"C:\\Users\\helen\\Desktop\\alt\\\\\"\n",
    "i=1\n",
    "for datei in os.listdir(pfad): \n",
    "    f = os.path.join(pfad, datei) \n",
    "    if os.path.isfile(f): \n",
    "\n",
    "        bs_content = parse_file(f)\n",
    "           \n",
    "        for name in bs_content.find_all(attrs={'type': 'received'}):\n",
    "            korresp = name.text\n",
    "            korresp1 = korresp.strip()\n",
    "            korresp2 = korresp1.split()\n",
    "            with open (f'{korresp2[-1]}_{i}.xml', \"w\", encoding = \"utf-8\") as fh_out: \n",
    "                fh_out.write(str(bs_content))\n",
    "                shutil.move(pfad + datei, alte_dateien)\n",
    "                i+=1"
   ]
  },
  {
   "cell_type": "markdown",
   "metadata": {},
   "source": [
    "## div herausfiltern"
   ]
  },
  {
   "cell_type": "markdown",
   "metadata": {},
   "source": [
    "- in den umbenannten Dateien wird nach dem div-Element gesucht und die Dateien werden nur mit dem div-Element überschrieben"
   ]
  },
  {
   "cell_type": "code",
   "execution_count": null,
   "metadata": {},
   "outputs": [],
   "source": [
    "for datei in os.listdir(pfad): \n",
    "    f = os.path.join(pfad, datei) \n",
    "    if os.path.isfile(f): \n",
    "        bs_content = parse_file(f)\n",
    "        for div in bs_content.find_all('div'): \n",
    "             with open (datei, \"w\", encoding = \"utf-8\") as fh_out: \n",
    "                fh_out.write(str(div))"
   ]
  },
  {
   "cell_type": "markdown",
   "metadata": {},
   "source": [
    "## note löschen"
   ]
  },
  {
   "cell_type": "markdown",
   "metadata": {},
   "source": [
    "- es wird nach den Fußnoten gesucht und sie werden gelöscht"
   ]
  },
  {
   "cell_type": "code",
   "execution_count": null,
   "metadata": {},
   "outputs": [],
   "source": [
    "for datei in os.listdir(pfad): \n",
    "    f = os.path.join(pfad, datei) \n",
    "    if os.path.isfile(f): \n",
    "        bs_content = parse_file(f)\n",
    "        for note in bs_content.find_all('note'):\n",
    "            note.decompose()  \n",
    "            with open (datei, \"w\", encoding = \"utf-8\") as fh_out: \n",
    "                fh_out.write(str(bs_content))"
   ]
  },
  {
   "cell_type": "markdown",
   "metadata": {},
   "source": [
    "## foreign löschen"
   ]
  },
  {
   "cell_type": "markdown",
   "metadata": {},
   "source": [
    "- es wird nach Fremdwörtern gesucht und sie werden gelöscht"
   ]
  },
  {
   "cell_type": "code",
   "execution_count": null,
   "metadata": {},
   "outputs": [],
   "source": [
    "for datei in os.listdir(pfad): \n",
    "    f = os.path.join(pfad, datei) \n",
    "    if os.path.isfile(f): \n",
    "        bs_content = parse_file(f)\n",
    "        for fremd in bs_content.find_all('foreign'):\n",
    "            fremd.decompose()  \n",
    "            with open (datei, \"w\", encoding = \"utf-8\") as fh_out: \n",
    "                fh_out.write(str(bs_content))"
   ]
  },
  {
   "cell_type": "markdown",
   "metadata": {},
   "source": [
    "## Sortieren nach einem Kriterium und umwandeln in TXT"
   ]
  },
  {
   "cell_type": "markdown",
   "metadata": {},
   "source": [
    "- es wird nach nach dem opener-Element gesucht, eine Bedingung (in diesem Beispiel ist es das Wort \"Freund\", das im opener sein soll) definiert, und wenn die Bedingung erfüllt ist, wird der Briefinhalt in eine TXT-Datei in einem anderen Ordner (pfad2) gespeichert"
   ]
  },
  {
   "cell_type": "code",
   "execution_count": null,
   "metadata": {},
   "outputs": [],
   "source": [
    "for datei in os.listdir(pfad):\n",
    "    f = os.path.join(pfad, datei) \n",
    "    name, endung = datei.split('.')\n",
    "    if os.path.isfile(f): \n",
    "        bs_content = parse_file(f)\n",
    "        brief = bs_content.text\n",
    "        for anrede in bs_content.find_all('opener'): \n",
    "            if 'Freund' in anrede.text and 'Herr' not in anrede.text and 'Kollege' not in anrede.text:\n",
    "                datei = make_file(brief)"
   ]
  }
 ],
 "metadata": {
  "kernelspec": {
   "display_name": "Python 3",
   "language": "python",
   "name": "python3"
  },
  "language_info": {
   "codemirror_mode": {
    "name": "ipython",
    "version": 3
   },
   "file_extension": ".py",
   "mimetype": "text/x-python",
   "name": "python",
   "nbconvert_exporter": "python",
   "pygments_lexer": "ipython3",
   "version": "3.8.3"
  }
 },
 "nbformat": 4,
 "nbformat_minor": 4
}
