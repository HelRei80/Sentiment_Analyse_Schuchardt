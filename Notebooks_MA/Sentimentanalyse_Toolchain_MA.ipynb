{
 "cells": [
  {
   "cell_type": "markdown",
   "metadata": {},
   "source": [
    "# Wörterbuchbasierte Sentimentanalyse"
   ]
  },
  {
   "cell_type": "markdown",
   "metadata": {},
   "source": [
    "- dies ist ein Besipiel für die wörterbuchbasierte Sentiment-Analyse nach dem Vorbild des DiSpecs-Projekts (Koncar, Philipp; Geiger, Bernhard; Glatz, Christina; Hobisch, Elisabeth, Sarić, Sanja; Scholger, Martina; Völkl, Yvonne; Helić, Denis (2022): A Sentiment Analysis Tool Chain for 18th Century Periodicals. In: Fabrikation von Erkenntnis: Experimente in den Digital Humanities https://doi.org/10.26298/EZPG-WK34 [Stand: 12.02.2023])\n",
    "- der Code wurde angepasst und erweitert"
   ]
  },
  {
   "cell_type": "markdown",
   "metadata": {},
   "source": [
    "- als Erstes müssen folgende Module importiert werden:"
   ]
  },
  {
   "cell_type": "code",
   "execution_count": null,
   "metadata": {},
   "outputs": [],
   "source": [
    "import os\n",
    "import numpy as np\n",
    "import pandas as pd\n",
    "import nltk\n",
    "import re\n",
    "import matplotlib.pyplot as plt\n",
    "import seaborn as sns\n",
    "from IPython.core.display import display, HTML"
   ]
  },
  {
   "cell_type": "markdown",
   "metadata": {},
   "source": [
    "## Dataframe-Erstellung"
   ]
  },
  {
   "cell_type": "markdown",
   "metadata": {},
   "source": [
    "- hier werden die Namen der Dateien extrachiert und an eine Liste gegeben:"
   ]
  },
  {
   "cell_type": "code",
   "execution_count": null,
   "metadata": {},
   "outputs": [],
   "source": [
    "pfad = r\"pfad\\zum\\ordner\"\n",
    "os.chdir(pfad)\n",
    "\n",
    "names=[]\n",
    "for datei in os.listdir(pfad): \n",
    "    f = os.path.join(pfad, datei) \n",
    "    if os.path.isfile(f): \n",
    "        name, endung=datei.split('.')\n",
    "        titel = names.append(name)"
   ]
  },
  {
   "cell_type": "markdown",
   "metadata": {},
   "source": [
    "- der Inhalt der Dateien wird eingelesen und an eine Liste gegeben:"
   ]
  },
  {
   "cell_type": "code",
   "execution_count": null,
   "metadata": {},
   "outputs": [],
   "source": [
    "briefe=[]\n",
    "for datei in os.listdir(pfad): \n",
    "    f = os.path.join(pfad, datei) \n",
    "    if os.path.isfile(f): \n",
    "        with open (f, encoding = \"UTF-8\") as fh:\n",
    "            brief = fh.read()\n",
    "            briefe.append(brief.replace('\\n\\n', '\\n'))"
   ]
  },
  {
   "cell_type": "markdown",
   "metadata": {},
   "source": [
    "- es wird eine Tabelle erstellt, die drei Spalten haben soll (briefe, name und sentiment):"
   ]
  },
  {
   "cell_type": "code",
   "execution_count": null,
   "metadata": {},
   "outputs": [],
   "source": [
    "df = pd.DataFrame(np.array(briefe), columns=['briefe'])"
   ]
  },
  {
   "cell_type": "code",
   "execution_count": null,
   "metadata": {},
   "outputs": [],
   "source": [
    "df.insert(loc=0, column='name', value=names)"
   ]
  },
  {
   "cell_type": "markdown",
   "metadata": {},
   "source": [
    "- Wörterbücher, d.h. eine Liste mit negativen und eine Liste mit positiven Wörtern, werden eingelesen (Achtung: bei der Sentiment-Berechnung mit Negation müssen entsprechende Negationen aus dem Wörterbuch entfernt werden):"
   ]
  },
  {
   "cell_type": "code",
   "execution_count": null,
   "metadata": {},
   "outputs": [],
   "source": [
    "with open(r\"pfad\\zur\\datei1\", encoding='utf-8') as fh:\n",
    "    sentiment_dict_neg = fh.read().lower().splitlines()\n",
    "with open(r\"pfad\\zur\\datei2\", encoding='utf-8') as fh:\n",
    "    sentiment_dict_pos = fh.read().lower().splitlines()\n",
    "print(\"loaded {} negative words\".format(len(sentiment_dict_neg)))\n",
    "print(\"loaded {} positive words\".format(len(sentiment_dict_pos)))"
   ]
  },
  {
   "cell_type": "markdown",
   "metadata": {},
   "source": [
    "- Funktion zur Berechung des Sentiments wird eingeführt:"
   ]
  },
  {
   "cell_type": "code",
   "execution_count": null,
   "metadata": {},
   "outputs": [],
   "source": [
    "def compute_sentiment(text):\n",
    "    tokens = nltk.word_tokenize(text)\n",
    "    tokens = [t.lower() for t in tokens]\n",
    "    num_negative = 0\n",
    "    num_positive = 0\n",
    "    for nw in sentiment_dict_neg:\n",
    "        num_negative += tokens.count(nw.lower())\n",
    "    for pw in sentiment_dict_pos:\n",
    "        num_positive += tokens.count(pw.lower())\n",
    "    try:\n",
    "        sentiment_score = (num_positive - num_negative) / (num_positive + num_negative)\n",
    "    except ZeroDivisionError:\n",
    "        sentiment_score = 0\n",
    "    return sentiment_score"
   ]
  },
  {
   "cell_type": "markdown",
   "metadata": {},
   "source": [
    "- Funktion zur Berechnung des Sentiments, die auch die Negationen \"nicht\", \"nichts\", \"kein\" (in allen Formen) und \"ohne\" im Text berücksichtigt:"
   ]
  },
  {
   "cell_type": "code",
   "execution_count": null,
   "metadata": {},
   "outputs": [],
   "source": [
    "def compute_sentiment_score(text):\n",
    "    tokens = nltk.word_tokenize(text) \n",
    "    tokens = [t.lower() for t in tokens] \n",
    "    num_negative = 0     \n",
    "    num_positive = 0     \n",
    "    for i, token in enumerate(tokens): \n",
    "        \n",
    "        if token in sentiment_dict_pos:      \n",
    "            if i>0 and tokens[i-1] in ['nicht', 'nichts', 'kein', 'keine', 'keiner', 'keines', 'keinem', 'keinen', 'ohne']:  \n",
    "                num_negative += 1                   \n",
    "            else:                                   \n",
    "                num_positive += 1                   \n",
    "        elif token in sentiment_dict_neg:          \n",
    "            if i>0 and tokens[i-1] in ['nicht', 'nichts', 'kein', 'keine', 'keiner', 'keines', 'keinem', 'keinen', 'ohne']:      \n",
    "                num_positive += 1                 \n",
    "            else:                                   \n",
    "                num_negative += 1                  \n",
    "    try:                                            \n",
    "        sentiment_score = (num_positive - num_negative) / (num_positive + num_negative) \n",
    "    except ZeroDivisionError:                     \n",
    "        sentiment_score = 0\n",
    "    return sentiment_score"
   ]
  },
  {
   "cell_type": "markdown",
   "metadata": {},
   "source": [
    "- die Berechnung wird durchgeführt und die Ergebnisse werden an die Tabelle weitergegeben:"
   ]
  },
  {
   "cell_type": "code",
   "execution_count": null,
   "metadata": {},
   "outputs": [],
   "source": [
    "df[\"sentiment\"] = df[\"briefe\"].apply(compute_sentiment)"
   ]
  },
  {
   "cell_type": "markdown",
   "metadata": {},
   "source": [
    "- die Tabelle wird gespeichert:"
   ]
  },
  {
   "cell_type": "code",
   "execution_count": null,
   "metadata": {},
   "outputs": [],
   "source": [
    "df.to_pickle(\"dateiname.p\")"
   ]
  },
  {
   "cell_type": "markdown",
   "metadata": {},
   "source": [
    "- die Statistik aus der Tabelle wird ausgegeben:"
   ]
  },
  {
   "cell_type": "code",
   "execution_count": null,
   "metadata": {},
   "outputs": [],
   "source": [
    "df[\"sentiment\"].describe()"
   ]
  },
  {
   "cell_type": "markdown",
   "metadata": {},
   "source": [
    "- Pfad zum Ordner, in dem die Visualisierung gespeichert werden soll, und das Format, in dem gespeichert wird, werden angegeben: "
   ]
  },
  {
   "cell_type": "code",
   "execution_count": null,
   "metadata": {},
   "outputs": [],
   "source": [
    "plot_results_dir = r\"pfad\\zum\\plotorder\\\\\"\n",
    "plot_file_format= \"png\""
   ]
  },
  {
   "cell_type": "markdown",
   "metadata": {},
   "source": [
    "## Attribute Plots"
   ]
  },
  {
   "cell_type": "markdown",
   "metadata": {},
   "source": [
    "- das Attribut, das analysiert wird, wird angegeben"
   ]
  },
  {
   "cell_type": "code",
   "execution_count": null,
   "metadata": {},
   "outputs": [],
   "source": [
    "attribute = \"name\""
   ]
  },
  {
   "cell_type": "markdown",
   "metadata": {},
   "source": [
    "### Bar Plot"
   ]
  },
  {
   "cell_type": "markdown",
   "metadata": {},
   "source": [
    "- Erstellung eines vertikalen Balkendiagramms:"
   ]
  },
  {
   "cell_type": "code",
   "execution_count": null,
   "metadata": {},
   "outputs": [],
   "source": [
    "ax = df.groupby(attribute)[\"sentiment\"].mean().plot(kind=\"bar\", ylabel=\"Sentiment Score\")\n",
    "fig = plt.gcf()\n",
    "fig.set_size_inches(18.5, 10.5)\n",
    "plt.savefig(\"{}{}_bar_plot.{}\".format(plot_results_dir, attribute, plot_file_format))\n",
    "plt.show()\n",
    "plt.close()"
   ]
  },
  {
   "cell_type": "markdown",
   "metadata": {},
   "source": [
    "- Erstellung eines horizontalen Diagramms für große Datensätze:"
   ]
  },
  {
   "cell_type": "code",
   "execution_count": null,
   "metadata": {},
   "outputs": [],
   "source": [
    "df.groupby(attribute)[\"sentiment\"].mean().plot(kind=\"barh\")\n",
    "fig = plt.gcf()\n",
    "fig.set_size_inches(18.5, 110.5)\n",
    "plt.title(\"briefgruppe\")\n",
    "plt.ylabel(\"names\")\n",
    "plt.xlabel(\"sentiment\")"
   ]
  },
  {
   "cell_type": "markdown",
   "metadata": {},
   "source": [
    "### Sentiment Words Highlighting"
   ]
  },
  {
   "cell_type": "markdown",
   "metadata": {},
   "source": [
    "- Visualisierung einzelner Texte - positive und negative Wörter werden fett und farblich (positive grün, negative rot) markiert dargestellt:"
   ]
  },
  {
   "cell_type": "code",
   "execution_count": null,
   "metadata": {},
   "outputs": [],
   "source": [
    "text_to_print = df.loc[briefnr., \"briefe\"] # z.B. text_to_print = df.loc[50, \"briefe\"]\n",
    "for nw in sentiment_dict_neg:\n",
    "    if re.search(r'\\b'+re.escape(nw)+r'\\b', text_to_print, re.IGNORECASE) and nw not in [\"span\", \"style\", \"color\", \"font\", \"size\"]:\n",
    "        pattern = re.compile(r'(\\b'+re.escape(nw)+r'\\b)', re.IGNORECASE)\n",
    "        text_to_print = pattern.sub(r\"<span style='color:#E74C3C; font-size:20pt'><b>\\1</b></span>\", text_to_print)\n",
    "        \n",
    "for pw in sentiment_dict_pos:\n",
    "    if re.search(r'\\b'+re.escape(pw)+r'\\b', text_to_print, re.IGNORECASE) and pw not in [\"span\", \"style\", \"color\", \"font\", \"size\"]:\n",
    "        pattern = re.compile(r'(\\b'+re.escape(pw)+r'\\b)', re.IGNORECASE)\n",
    "        text_to_print = pattern.sub(r\"<span style='color:#27AE60; font-size:20pt'><b>\\1</b></span>\", text_to_print)\n",
    "\n",
    "HTML(text_to_print)"
   ]
  },
  {
   "cell_type": "markdown",
   "metadata": {},
   "source": [
    "- Visualisierung einzelner Texte - Negation, positive und negative Wörter werden fett und farblich (Negation blau, positive Wörter grün, negative rot) markiert dargestellt:"
   ]
  },
  {
   "cell_type": "code",
   "execution_count": null,
   "metadata": {},
   "outputs": [],
   "source": [
    "text_to_print = df.loc[briefnr., \"briefe\"] # z.B. text_to_print = df.loc[50, \"briefe\"]\n",
    "for neg in ['nicht', 'nichts', 'kein', 'keine', 'keiner', 'keines', 'keinem', 'keinen', 'ohne']:\n",
    "    if neg.lower() in text_to_print.lower():\n",
    "        text_to_print = re.sub(r\"\\b{}\\b\".format(neg), r\"<span style='color:#2a31b0; font-size:20pt'><b>{}</b></span>\".format(neg), text_to_print)\n",
    "for nw in sentiment_dict_neg:\n",
    "    if nw.lower() in text_to_print.lower() and nw not in [\"span\", \"style\", \"color\", \"font\", \"size\"]:\n",
    "        text_to_print = re.sub(r\"\\b{}\\b\".format(nw), r\"<span style='color:#E74C3C; font-size:20pt'><b>{}</b></span>\".format(nw), text_to_print)\n",
    "        \n",
    "for pw in sentiment_dict_pos:\n",
    "    if pw.lower() in text_to_print.lower() and pw not in [\"span\", \"style\", \"color\", \"font\", \"size\"]:\n",
    "        text_to_print = re.sub(r\"\\b{}\\b\".format(pw), r\"<span style='color:#27AE60; font-size:20pt'><b>{}</b></span>\".format(pw), text_to_print)\n",
    "\n",
    "HTML(text_to_print)"
   ]
  },
  {
   "cell_type": "markdown",
   "metadata": {},
   "source": [
    "# Statistik"
   ]
  },
  {
   "cell_type": "markdown",
   "metadata": {},
   "source": [
    "- Beispielcodes für Balkendiagramme, die einen Vergleich der Durchschnittswerte darstellen:"
   ]
  },
  {
   "cell_type": "code",
   "execution_count": null,
   "metadata": {},
   "outputs": [],
   "source": [
    "#Vergleich der durchschnittlichen Setniment-Werte pro Textgruppe \n",
    "plt.rc('font', size=18)\n",
    "fig = plt.figure()\n",
    "ax = fig.add_axes([0,0,1,1])\n",
    "\n",
    "gruppe = ['Gruppe1', 'Gruppe2', 'Gruppe3', 'Gruppe4', ...]\n",
    "sentiment_durchschnitt = [Wert1, Wert2, Wert3, Wert4, ...]\n",
    "ax.bar(gruppe,sentiment_durchschnitt)\n",
    "ax.set_xlabel('Briefgruppe')\n",
    "ax.set_ylabel('Sentiment-Durchschnitt')\n",
    "ax.set_title('Durchschnittlicher Sentiment-Wert pro Gruppe')\n",
    "fig.set_size_inches(18.5, 10.5)\n",
    "plt.show()"
   ]
  },
  {
   "cell_type": "code",
   "execution_count": null,
   "metadata": {},
   "outputs": [],
   "source": [
    "# Darstellung der Durchschnittwerte in einzelnen Gruppen und nach verschiedenen Krieterien (hier Wörterbüchern) in verschiedenen Farben\n",
    "\n",
    "data=[[\"Briefgruppe1\", Wert1, Wert2, Wert3, Wert4, ...],\n",
    "      [\"Briefgruppe2\", Wert1, Wert2, Wert3, Wert4, ...],\n",
    "      [\"Briefgruppe3\", Wert1, Wert2, Wert3, Wert4, ...],\n",
    "      [\"Briefgruppe4\", Wert1, Wert2, Wert3, Wert4, ...],\n",
    "      [\"Briefgruppe5\", Wert1, Wert2, Wert3, Wert4, ...],\n",
    "      ...\n",
    "      ]\n",
    "df=pd.DataFrame(data,columns=[\"Gruppe\",\"Wörterbuch1\",\"Wörterbuch2\",\"Wörterbuch3\", \"Wörterbuch4\", ...])\n",
    "\n",
    "ax = df.plot(x=\"Gruppe\", y=[\"Wörterbuch1\",\"Wörterbuch2\",\"Wörterbuch3\", \"Wörterbuch4\", ...], kind=\"bar\",figsize=(18,10))\n",
    "ax.set_ylabel(\"Sentiment-Durchschnitt\")\n",
    "plt.show()"
   ]
  },
  {
   "cell_type": "code",
   "execution_count": null,
   "metadata": {},
   "outputs": [],
   "source": [
    "# horizontales Balkendiagramm für große Briefgruppen\n",
    "attribute = \"name\"\n",
    "df_fnd.groupby(attribute)[\"sentiment\"].mean().plot(kind=\"barh\")\n",
    "fig = plt.gcf()\n",
    "fig.set_size_inches(40, 300)\n",
    "plt.rc('font', size=18)\n",
    "plt.title(\"briefgruppe\")\n",
    "plt.ylabel(\"names\")\n",
    "plt.xlabel(\"sentiment\")\n",
    "plt.savefig(\"{}{}_bar_plot.{}\".format(plot_results_dir, attribute, plot_file_format))"
   ]
  }
 ],
 "metadata": {
  "kernelspec": {
   "display_name": "Python 3",
   "language": "python",
   "name": "python3"
  },
  "language_info": {
   "codemirror_mode": {
    "name": "ipython",
    "version": 3
   },
   "file_extension": ".py",
   "mimetype": "text/x-python",
   "name": "python",
   "nbconvert_exporter": "python",
   "pygments_lexer": "ipython3",
   "version": "3.8.3"
  }
 },
 "nbformat": 4,
 "nbformat_minor": 4
}
