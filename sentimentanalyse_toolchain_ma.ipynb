{
 "cells": [
  {
   "cell_type": "markdown",
   "metadata": {},
   "source": [
    "# Sentimentanalyse"
   ]
  },
  {
   "cell_type": "markdown",
   "metadata": {},
   "source": [
    "- folgende Module müssen importiert werden:"
   ]
  },
  {
   "cell_type": "code",
   "execution_count": 32,
   "metadata": {},
   "outputs": [],
   "source": [
    "import os\n",
    "import numpy as np\n",
    "import pandas as pd\n",
    "import nltk\n",
    "import re\n",
    "import matplotlib.pyplot as plt\n",
    "import seaborn as sns\n",
    "from IPython.core.display import display, HTML"
   ]
  },
  {
   "cell_type": "markdown",
   "metadata": {},
   "source": [
    "## Dataframe-Erstellung"
   ]
  },
  {
   "cell_type": "markdown",
   "metadata": {},
   "source": [
    "- hier werden die Namen der Dateien extrachiert und an eine Liste gegeben:"
   ]
  },
  {
   "cell_type": "code",
   "execution_count": null,
   "metadata": {},
   "outputs": [],
   "source": [
    "pfad = r\"pfad\\zum\\ordner\"\n",
    "os.chdir(pfad)\n",
    "\n",
    "names=[]\n",
    "for datei in os.listdir(pfad): \n",
    "    f = os.path.join(pfad, datei) \n",
    "    if os.path.isfile(f): \n",
    "        name, endung=datei.split('.')\n",
    "        titel = names.append(name)"
   ]
  },
  {
   "cell_type": "markdown",
   "metadata": {},
   "source": [
    "- der Inhalt der Dateien wird eingelesen und an eine Liste gegeben:"
   ]
  },
  {
   "cell_type": "code",
   "execution_count": null,
   "metadata": {},
   "outputs": [],
   "source": [
    "briefe=[]\n",
    "for datei in os.listdir(pfad): \n",
    "    f = os.path.join(pfad, datei) \n",
    "    if os.path.isfile(f): \n",
    "        \n",
    "        with open (f, encoding = \"UTF-8\") as fh:\n",
    "            brief = fh.read()\n",
    "            briefe.append(brief.replace('\\n\\n', '\\n'))"
   ]
  },
  {
   "cell_type": "markdown",
   "metadata": {},
   "source": [
    "- es wird eine Tabelle erstellt, das drei Spalten haben soll (briefe, name und sentiment):"
   ]
  },
  {
   "cell_type": "code",
   "execution_count": 64,
   "metadata": {},
   "outputs": [],
   "source": [
    "df = pd.DataFrame(np.array(briefe), columns=['briefe'])"
   ]
  },
  {
   "cell_type": "code",
   "execution_count": 66,
   "metadata": {},
   "outputs": [],
   "source": [
    "df.insert(loc=0, column='name', value=names)"
   ]
  },
  {
   "cell_type": "markdown",
   "metadata": {},
   "source": [
    "- Wörterbücher werden eingelesen:"
   ]
  },
  {
   "cell_type": "code",
   "execution_count": null,
   "metadata": {},
   "outputs": [],
   "source": [
    "with open(r\"pfad\\zur\\datei1\", encoding='utf-8') as fh:\n",
    "    sentiment_dict_neg = fh.read().splitlines()\n",
    "with open(r\"pfad\\zur\\datei2\", encoding='utf-8') as fh:\n",
    "    sentiment_dict_pos = fh.read().splitlines()\n",
    "print(\"loaded {} negative words\".format(len(sentiment_dict_neg)))\n",
    "print(\"loaded {} positive words\".format(len(sentiment_dict_pos)))"
   ]
  },
  {
   "cell_type": "markdown",
   "metadata": {},
   "source": [
    "- Funktion zur Berechung des Sentiments wird eingeführt:"
   ]
  },
  {
   "cell_type": "code",
   "execution_count": 10,
   "metadata": {},
   "outputs": [],
   "source": [
    "def compute_sentiment(text):\n",
    "    tokens = nltk.word_tokenize(text)\n",
    "    tokens = [t.lower() for t in tokens]\n",
    "    num_negative = 0\n",
    "    num_positive = 0\n",
    "    for nw in sentiment_dict_neg:\n",
    "        num_negative += tokens.count(nw.lower())\n",
    "    for pw in sentiment_dict_pos:\n",
    "        num_positive += tokens.count(pw.lower())\n",
    "    try:\n",
    "        sentiment_score = (num_positive - num_negative) / (num_positive + num_negative)\n",
    "    except ZeroDivisionError:\n",
    "        sentiment_score = 0\n",
    "    return sentiment_score"
   ]
  },
  {
   "cell_type": "markdown",
   "metadata": {},
   "source": [
    "- Funktion zur Berechnung des Sentiments, die auch die Negation im Text berücksichtigt"
   ]
  },
  {
   "cell_type": "code",
   "execution_count": null,
   "metadata": {},
   "outputs": [],
   "source": [
    "def compute_sentiment_neg(text):\n",
    "    tokens = nltk.word_tokenize(text)\n",
    "    tokens = [t.lower() for t in tokens] \n",
    "    num_negative = 0    \n",
    "    num_positive = 0     \n",
    "    for i, wort in enumerate(tokens):  \n",
    "        if wort in sentiment_dict_pos:      \n",
    "            if  i>0 and tokens[i-1] == 'nicht':  \n",
    "                num_negative += tokens.count(wort.lower())                \n",
    "            else:                                   \n",
    "                num_positive += tokens.count(wort.lower())                  \n",
    "        elif wort in sentiment_dict_neg:            \n",
    "                num_positive += tokens.count(wort.lower())                 \n",
    "            else:                                   \n",
    "                num_negative += tokens.count(wort.lower())                   \n",
    "        else:                                      \n",
    "            wort\n",
    "    try:                                            \n",
    "        sentiment_score = (num_positive - num_negative) / (num_positive + num_negative)  \n",
    "    except ZeroDivisionError:                      \n",
    "        sentiment_score = 0\n",
    "    return sentiment_score"
   ]
  },
  {
   "cell_type": "markdown",
   "metadata": {},
   "source": [
    "- die Berechnung wird durchgeführt und die Ergebnisse werden an die Tabelle weitergegeben:"
   ]
  },
  {
   "cell_type": "code",
   "execution_count": 68,
   "metadata": {},
   "outputs": [],
   "source": [
    "df[\"sentiment\"] = df[\"briefe\"].apply(compute_sentiment)"
   ]
  },
  {
   "cell_type": "markdown",
   "metadata": {},
   "source": [
    "- die Tabelle wird gespeichert:"
   ]
  },
  {
   "cell_type": "code",
   "execution_count": 73,
   "metadata": {},
   "outputs": [],
   "source": [
    "df.to_pickle(\"dateiname.p\")"
   ]
  },
  {
   "cell_type": "markdown",
   "metadata": {},
   "source": [
    "- die Statistik aus der Tabelle wird ausgegeben:"
   ]
  },
  {
   "cell_type": "code",
   "execution_count": null,
   "metadata": {},
   "outputs": [],
   "source": [
    "df[\"sentiment\"].describe()"
   ]
  },
  {
   "cell_type": "markdown",
   "metadata": {},
   "source": [
    "- Pfad zum Ordner, in dem die Visualisierung gespeichert werden soll, und das Format, in dem gespeichert wird, werden angegeben: "
   ]
  },
  {
   "cell_type": "code",
   "execution_count": 75,
   "metadata": {},
   "outputs": [],
   "source": [
    "plot_results_dir = r\"pfad\\zum\\plotorder\\\\\"\n",
    "plot_file_format= \"png\""
   ]
  },
  {
   "cell_type": "markdown",
   "metadata": {},
   "source": [
    "### Attribute Plots"
   ]
  },
  {
   "cell_type": "markdown",
   "metadata": {},
   "source": [
    "- das Attribut, das analysiert wird, wird angegeben"
   ]
  },
  {
   "cell_type": "code",
   "execution_count": 77,
   "metadata": {},
   "outputs": [],
   "source": [
    "attribute = \"name\""
   ]
  },
  {
   "cell_type": "markdown",
   "metadata": {},
   "source": [
    "#### Bar Plot"
   ]
  },
  {
   "cell_type": "markdown",
   "metadata": {},
   "source": [
    "- Erstellung eines Balkendiagramms"
   ]
  },
  {
   "cell_type": "code",
   "execution_count": 78,
   "metadata": {},
   "outputs": [
    {
     "data": {
      "image/png": "[encoded data removed]",
      "text/plain": [
       "<Figure size 1332x756 with 1 Axes>"
      ]
     },
     "metadata": {
      "needs_background": "light"
     },
     "output_type": "display_data"
    }
   ],
   "source": [
    "ax = df.groupby(attribute)[\"sentiment\"].mean().plot(kind=\"bar\", ylabel=\"Sentiment Score\")\n",
    "fig = plt.gcf()\n",
    "fig.set_size_inches(18.5, 10.5)\n",
    "plt.savefig(\"{}{}_bar_plot.{}\".format(plot_results_dir, attribute, plot_file_format))\n",
    "plt.show()\n",
    "plt.close()"
   ]
  },
  {
   "cell_type": "markdown",
   "metadata": {},
   "source": [
    "#### Sentiment Words Highlighting"
   ]
  },
  {
   "cell_type": "markdown",
   "metadata": {},
   "source": [
    "- Visualisierung einzelner Texte - positive und negative Wörter werden fett und farblich markiert dargestellt"
   ]
  },
  {
   "cell_type": "code",
   "execution_count": 85,
   "metadata": {},
   "outputs": [
    {
     "data": {
      "text/html": [
       "\n",
       "Meine theuerste Mama! \n",
       "Ich habe heute eine Entscheidung getroffen welche mich sehr <span style='color:#27AE60; font-size:20pt'><b>erleichtert</b></span>. Ich werde\n",
       "               Sare bis zuletzt als Station beibehalten, von hier aus aber Ausflüge ins Spanische\n",
       "               machen, so nach S.\n",
       "                  Sebastián mit der Eisenbahn und nach Roncesvalles\n",
       "               wahrscheinlich mit der Kutsche, welche die Tochter meiner Hausleute aus Spanien\n",
       "               herüberbringt. Schreibe mir also hierher, ich kann von hier dann jeden Tag nach\n",
       "               Bayonne, von da mit Expreßzug nach Paris u. s. w. Die <span style='color:#27AE60; font-size:20pt'><b>wichtige</b></span> Frage der\n",
       "               Reisebegleitung bis zu unserem Stelldichein bitte ich nicht zu vergessen. Ich würde\n",
       "               sehr gern die Fahrt für August bezahlen.\n",
       "Tausend Grüße\n",
       "Dein <span style='color:#27AE60; font-size:20pt'><b>treuer</b></span> Sohn.\n",
       "\n"
      ],
      "text/plain": [
       "<IPython.core.display.HTML object>"
      ]
     },
     "execution_count": 85,
     "metadata": {},
     "output_type": "execute_result"
    }
   ],
   "source": [
    "text_to_print = df.loc[24, \"briefe\"]\n",
    "for nw in sentiment_dict_neg:\n",
    "    if nw.lower() in text_to_print.lower() and nw not in [\"span\", \"style\", \"color\", \"font\", \"size\"]:\n",
    "        text_to_print = re.sub(r\"\\b{}\\b\".format(nw), r\"<span style='color:#E74C3C; font-size:20pt'><b>{}</b></span>\".format(nw), text_to_print)\n",
    "        \n",
    "for pw in sentiment_dict_pos:\n",
    "    if pw.lower() in text_to_print.lower() and pw not in [\"span\", \"style\", \"color\", \"font\", \"size\"]:\n",
    "        text_to_print = re.sub(r\"\\b{}\\b\".format(pw), r\"<span style='color:#27AE60; font-size:20pt'><b>{}</b></span>\".format(pw), text_to_print)\n",
    "\n",
    "HTML(text_to_print)"
   ]
  }
 ],
 "metadata": {
  "kernelspec": {
   "display_name": "Python 3",
   "language": "python",
   "name": "python3"
  },
  "language_info": {
   "codemirror_mode": {
    "name": "ipython",
    "version": 3
   },
   "file_extension": ".py",
   "mimetype": "text/x-python",
   "name": "python",
   "nbconvert_exporter": "python",
   "pygments_lexer": "ipython3",
   "version": "3.8.3"
  }
 },
 "nbformat": 4,
 "nbformat_minor": 4
}
